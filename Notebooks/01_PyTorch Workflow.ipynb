{
 "cells": [
  {
   "cell_type": "markdown",
   "metadata": {},
   "source": [
    "# PyTorch Workflow\n",
    "\n",
    "Let's explore a an example of PyTorchn en-to-end workflow"
   ]
  },
  {
   "cell_type": "code",
   "execution_count": 1,
   "metadata": {},
   "outputs": [
    {
     "data": {
      "text/plain": [
       "{1: 'data (prepare and load)',\n",
       " 2: 'build model',\n",
       " 3: 'fitting the model to data (training)',\n",
       " 4: 'making predictions and evaluating a model (inference)',\n",
       " 5: 'saving and loading a model',\n",
       " 6: 'putting it all together'}"
      ]
     },
     "execution_count": 1,
     "metadata": {},
     "output_type": "execute_result"
    }
   ],
   "source": [
    "what_were_covering = {1: \"data (prepare and load)\",\n",
    "                      2: \"build model\",\n",
    "                      3: \"fitting the model to data (training)\",\n",
    "                      4: \"making predictions and evaluating a model (inference)\",\n",
    "                      5: \"saving and loading a model\",\n",
    "                      6: \"putting it all together\"}\n",
    "\n",
    "what_were_covering"
   ]
  },
  {
   "cell_type": "code",
   "execution_count": 2,
   "metadata": {},
   "outputs": [
    {
     "data": {
      "text/plain": [
       "'2.1.2+cu118'"
      ]
     },
     "execution_count": 2,
     "metadata": {},
     "output_type": "execute_result"
    }
   ],
   "source": [
    "import torch \n",
    "from torch import nn # nn contains all of PyTorch's building blocks for graphs\n",
    "import matplotlib.pyplot as plt\n",
    "\n",
    "torch.__version__"
   ]
  },
  {
   "cell_type": "markdown",
   "metadata": {},
   "source": [
    "## 1. Data (Preparing and Loading)\n",
    "\n",
    "Data can be almost anything...in machine learning.\n",
    "\n",
    "* Excel Spreadsheet\n",
    "* Images of any kind\n",
    "* Videos\n",
    "* Audio like songs or podcasts \n",
    "* DNA\n",
    "* Text\n",
    "\n",
    "Machine Learning is a game of two parts:\n",
    "1. Get data into numerical representation.\n",
    "2. Build a model to learn patterns in that numerical representation.\n",
    "\n",
    "To showcase this, lets' create some *known* data using the linear regression formula.\n",
    "\n",
    "We'll use a linear regression formula to make a straight line with known *parameters*."
   ]
  },
  {
   "cell_type": "code",
   "execution_count": 3,
   "metadata": {},
   "outputs": [
    {
     "data": {
      "text/plain": [
       "(tensor([[0.0000],\n",
       "         [0.0200],\n",
       "         [0.0400],\n",
       "         [0.0600],\n",
       "         [0.0800],\n",
       "         [0.1000],\n",
       "         [0.1200],\n",
       "         [0.1400],\n",
       "         [0.1600],\n",
       "         [0.1800]]),\n",
       " tensor([[0.3000],\n",
       "         [0.3140],\n",
       "         [0.3280],\n",
       "         [0.3420],\n",
       "         [0.3560],\n",
       "         [0.3700],\n",
       "         [0.3840],\n",
       "         [0.3980],\n",
       "         [0.4120],\n",
       "         [0.4260]]))"
      ]
     },
     "execution_count": 3,
     "metadata": {},
     "output_type": "execute_result"
    }
   ],
   "source": [
    "# Create *known* parameters\n",
    "\n",
    "weight = 0.7\n",
    "bias = 0.3\n",
    "\n",
    "# Create \n",
    "start = 0\n",
    "end = 1\n",
    "step = 0.02\n",
    "\n",
    "X = torch.arange(start, end, step).unsqueeze(dim = 1)\n",
    "y = weight * X + bias\n",
    "\n",
    "X[:10], y[:10]\n",
    "# len(X), len(y)"
   ]
  },
  {
   "cell_type": "markdown",
   "metadata": {},
   "source": [
    "### Splitting data into training and testing\n",
    "\n",
    "Let's create a trainig and testing set with our data"
   ]
  },
  {
   "cell_type": "code",
   "execution_count": 4,
   "metadata": {},
   "outputs": [
    {
     "data": {
      "text/plain": [
       "(40, 40, 10, 10)"
      ]
     },
     "execution_count": 4,
     "metadata": {},
     "output_type": "execute_result"
    }
   ],
   "source": [
    "# Create a train/test split\n",
    "\n",
    "train_split = int(0.8 * len(X))\n",
    "\n",
    "X_train, y_train = X[:train_split], y[:train_split]\n",
    "X_test, y_test = X[train_split:], y[train_split:]\n",
    "\n",
    "len(X_train), len(y_train), len(X_test), len(y_test)"
   ]
  },
  {
   "cell_type": "code",
   "execution_count": 5,
   "metadata": {},
   "outputs": [
    {
     "data": {
      "text/plain": [
       "(tensor([[0.0000],\n",
       "         [0.0200],\n",
       "         [0.0400],\n",
       "         [0.0600],\n",
       "         [0.0800],\n",
       "         [0.1000],\n",
       "         [0.1200],\n",
       "         [0.1400],\n",
       "         [0.1600],\n",
       "         [0.1800],\n",
       "         [0.2000],\n",
       "         [0.2200],\n",
       "         [0.2400],\n",
       "         [0.2600],\n",
       "         [0.2800],\n",
       "         [0.3000],\n",
       "         [0.3200],\n",
       "         [0.3400],\n",
       "         [0.3600],\n",
       "         [0.3800],\n",
       "         [0.4000],\n",
       "         [0.4200],\n",
       "         [0.4400],\n",
       "         [0.4600],\n",
       "         [0.4800],\n",
       "         [0.5000],\n",
       "         [0.5200],\n",
       "         [0.5400],\n",
       "         [0.5600],\n",
       "         [0.5800],\n",
       "         [0.6000],\n",
       "         [0.6200],\n",
       "         [0.6400],\n",
       "         [0.6600],\n",
       "         [0.6800],\n",
       "         [0.7000],\n",
       "         [0.7200],\n",
       "         [0.7400],\n",
       "         [0.7600],\n",
       "         [0.7800]]),\n",
       " tensor([[0.3000],\n",
       "         [0.3140],\n",
       "         [0.3280],\n",
       "         [0.3420],\n",
       "         [0.3560],\n",
       "         [0.3700],\n",
       "         [0.3840],\n",
       "         [0.3980],\n",
       "         [0.4120],\n",
       "         [0.4260],\n",
       "         [0.4400],\n",
       "         [0.4540],\n",
       "         [0.4680],\n",
       "         [0.4820],\n",
       "         [0.4960],\n",
       "         [0.5100],\n",
       "         [0.5240],\n",
       "         [0.5380],\n",
       "         [0.5520],\n",
       "         [0.5660],\n",
       "         [0.5800],\n",
       "         [0.5940],\n",
       "         [0.6080],\n",
       "         [0.6220],\n",
       "         [0.6360],\n",
       "         [0.6500],\n",
       "         [0.6640],\n",
       "         [0.6780],\n",
       "         [0.6920],\n",
       "         [0.7060],\n",
       "         [0.7200],\n",
       "         [0.7340],\n",
       "         [0.7480],\n",
       "         [0.7620],\n",
       "         [0.7760],\n",
       "         [0.7900],\n",
       "         [0.8040],\n",
       "         [0.8180],\n",
       "         [0.8320],\n",
       "         [0.8460]]))"
      ]
     },
     "execution_count": 5,
     "metadata": {},
     "output_type": "execute_result"
    }
   ],
   "source": [
    "X_train, y_train"
   ]
  },
  {
   "cell_type": "markdown",
   "metadata": {},
   "source": [
    "### How might we better visualize our data?\n",
    "This is where the data explorer's motto comes in!"
   ]
  },
  {
   "cell_type": "code",
   "execution_count": 6,
   "metadata": {},
   "outputs": [],
   "source": [
    "def plot_predictions(train_data = X_train,\n",
    "                     train_labels = y_train,\n",
    "                     test_data = X_test,\n",
    "                     test_labels = y_test,\n",
    "                     predictions = None):\n",
    "    \n",
    "    plt.figure(figsize = (10, 7))\n",
    "\n",
    "    # Plot training data in blue\n",
    "    plt.scatter(train_data, train_labels, c=\"b\", s=4, label = \"Training Data\")\n",
    "\n",
    "    # Plot testing data in green\n",
    "    plt.scatter(test_data, test_labels, c=\"g\", s=4, label = \"Testing Data\")\n",
    "\n",
    "    # Are there predictions?\n",
    "    if predictions is not None:\n",
    "        plt.scatter(test_data, predictions, c=\"r\", s=4, label=\"Predictions\")\n",
    "\n",
    "    # Show the legend\n",
    "    plt.legend(prop={\"size\": 14});"
   ]
  },
  {
   "cell_type": "code",
   "execution_count": 7,
   "metadata": {},
   "outputs": [
    {
     "data": {
      "image/png": "[encoded data removed]",
      "text/plain": [
       "<Figure size 1000x700 with 1 Axes>"
      ]
     },
     "metadata": {},
     "output_type": "display_data"
    }
   ],
   "source": [
    "plot_predictions();"
   ]
  },
  {
   "cell_type": "markdown",
   "metadata": {},
   "source": [
    "## 2. Build Model\n",
    "\n",
    "Our first PyTorch Model!!\n",
    "\n",
    "\n",
    "* Start with random values (bias and weights)\n",
    "* Look at training data and adjust the random values to better represent (or get closer to) the ideal values (the weight & bias values we used to create the data)\n",
    "\n",
    "How does it do so?\n",
    "Through two main algorithms:\n",
    "* Back-Propogation\n",
    "* Gradient Descent"
   ]
  },
  {
   "cell_type": "code",
   "execution_count": 8,
   "metadata": {},
   "outputs": [],
   "source": [
    "# Create linear regression model class\n",
    "\n",
    "class LinearRegressionModel(nn.Module): # <-almost everything in PyTorch inherits from nn.Module\n",
    "    def __init__(self):\n",
    "        super().__init__()\n",
    "        self.weights = nn.Parameter(torch.rand(1,\n",
    "                                               requires_grad = True,\n",
    "                                               dtype = torch.float))\n",
    "        self.bias = nn.Parameter(torch.rand(1,\n",
    "                                            requires_grad = True,\n",
    "                                            ))\n",
    "\n",
    "    # Forward method to define the computation in the model\n",
    "    def forward(self, x:torch.Tensor) -> torch.Tensor: # <- \"x\" is the input data \n",
    "        return self.weights * x + self.bias\n",
    "\n",
    "    "
   ]
  },
  {
   "cell_type": "markdown",
   "metadata": {},
   "source": [
    "### PyTorch model building essentials\n",
    "\n",
    "* torch.nn        --> contains all of the buildings for computational graphs (Neural Network)\n",
    "\n",
    "* torch.Parameter --> what parameters should our model try and learn, often a PyTorch layer from torch.nn will set these for us\n",
    "\n",
    "* torch.nn.Module  --> base class for all neural network modules, if you subclass it, you should overwrite forward()\n",
    "\n",
    "* torch.optim      --> this is where the optimizers in PyTorch live, they will help with gradient descent\n",
    "\n",
    "* def forward()    --> All nn.Module subclasses require you to overwrite forward(), this method defines what happens in the forward computation"
   ]
  },
  {
   "cell_type": "markdown",
   "metadata": {},
   "source": [
    "### Checking the contents of our PyTorch model\n",
    "\n",
    "We can check our model parameter or what's inside our model using .parameters()"
   ]
  },
  {
   "cell_type": "code",
   "execution_count": 9,
   "metadata": {},
   "outputs": [
    {
     "data": {
      "text/plain": [
       "[Parameter containing:\n",
       " tensor([0.8823], requires_grad=True),\n",
       " Parameter containing:\n",
       " tensor([0.9150], requires_grad=True)]"
      ]
     },
     "execution_count": 9,
     "metadata": {},
     "output_type": "execute_result"
    }
   ],
   "source": [
    "# Create a random seed\n",
    "torch.manual_seed(42)\n",
    "\n",
    "# Create an instance of the model\n",
    "model_0 = LinearRegressionModel()\n",
    "\n",
    "model_0\n",
    "\n",
    "list(model_0.parameters())"
   ]
  },
  {
   "cell_type": "code",
   "execution_count": 10,
   "metadata": {},
   "outputs": [
    {
     "data": {
      "text/plain": [
       "OrderedDict([('weights', tensor([0.8823])), ('bias', tensor([0.9150]))])"
      ]
     },
     "execution_count": 10,
     "metadata": {},
     "output_type": "execute_result"
    }
   ],
   "source": [
    "# List named parameters \n",
    "model_0.state_dict()"
   ]
  },
  {
   "cell_type": "code",
   "execution_count": 11,
   "metadata": {},
   "outputs": [
    {
     "data": {
      "text/plain": [
       "(0.7, 0.3)"
      ]
     },
     "execution_count": 11,
     "metadata": {},
     "output_type": "execute_result"
    }
   ],
   "source": [
    "weight, bias"
   ]
  },
  {
   "cell_type": "markdown",
   "metadata": {},
   "source": [
    "### Making predictions using 'torch.inference_mode()'\n",
    "\n",
    "To check our model's predictive power, let's see how well it predicts 'y_test' based on 'X_test'.\n",
    "\n",
    "When we pass data through our model, it's going to run it through the forward()method."
   ]
  },
  {
   "cell_type": "code",
   "execution_count": 12,
   "metadata": {},
   "outputs": [],
   "source": [
    "# Make predictions with model\n",
    "with torch.inference_mode():\n",
    "    y_preds = model_0(X_test)\n",
    "\n",
    "# You can do something similar with torch.no_grad()"
   ]
  },
  {
   "cell_type": "code",
   "execution_count": 13,
   "metadata": {},
   "outputs": [
    {
     "data": {
      "image/png": "[encoded data removed]",
      "text/plain": [
       "<Figure size 1000x700 with 1 Axes>"
      ]
     },
     "metadata": {},
     "output_type": "display_data"
    }
   ],
   "source": [
    "plot_predictions(predictions = y_preds)"
   ]
  },
  {
   "cell_type": "code",
   "execution_count": 14,
   "metadata": {},
   "outputs": [
    {
     "name": "stdout",
     "output_type": "stream",
     "text": [
      "Number of testing samples: 10\n",
      "Number of predictions made: 10\n",
      "Predicted values:\n",
      "tensor([[1.6208],\n",
      "        [1.6385],\n",
      "        [1.6561],\n",
      "        [1.6738],\n",
      "        [1.6914],\n",
      "        [1.7090],\n",
      "        [1.7267],\n",
      "        [1.7443],\n",
      "        [1.7620],\n",
      "        [1.7796]])\n"
     ]
    }
   ],
   "source": [
    "# Check the predictions\n",
    "print(f\"Number of testing samples: {len(X_test)}\") \n",
    "print(f\"Number of predictions made: {len(y_preds)}\")\n",
    "print(f\"Predicted values:\\n{y_preds}\")"
   ]
  },
  {
   "cell_type": "markdown",
   "metadata": {},
   "source": [
    "# 3. Train Model\n",
    "\n",
    "The whole idea of training is for a model to move from some *unknown* parameters to some known parameters.\n",
    "\n",
    "One way to measure how poor or how wrong your models prediction are is to use a *loss function*\n",
    "\n",
    "* Note: Loss function may also be called cost function or criterion in different areas. For our case, we're going to refer to it as a loss function. \n",
    "\n",
    "Things we need to train:\n",
    "* **Loss Function**: A function to measure how wrong your model's prediction are to the ideal outputs, lower is better.\n",
    "* **Optimizer**: Takes into account the loss of a model and adjusts the model's parameters (e.g. weight & bias) to improve the loss function. \n",
    "\n",
    "And specifically for PyTorch, we need:\n",
    "* A training loop \n",
    "* A testing loop"
   ]
  },
  {
   "cell_type": "code",
   "execution_count": 15,
   "metadata": {},
   "outputs": [
    {
     "data": {
      "text/plain": [
       "[Parameter containing:\n",
       " tensor([0.8823], requires_grad=True),\n",
       " Parameter containing:\n",
       " tensor([0.9150], requires_grad=True)]"
      ]
     },
     "execution_count": 15,
     "metadata": {},
     "output_type": "execute_result"
    }
   ],
   "source": [
    "list(model_0.parameters())"
   ]
  },
  {
   "cell_type": "code",
   "execution_count": 16,
   "metadata": {},
   "outputs": [
    {
     "data": {
      "text/plain": [
       "OrderedDict([('weights', tensor([0.8823])), ('bias', tensor([0.9150]))])"
      ]
     },
     "execution_count": 16,
     "metadata": {},
     "output_type": "execute_result"
    }
   ],
   "source": [
    "# Check out our model's parameters (a parameters is a value that the model sets itself)\n",
    "model_0.state_dict()"
   ]
  },
  {
   "cell_type": "code",
   "execution_count": 17,
   "metadata": {},
   "outputs": [],
   "source": [
    "# Setup a loss function\n",
    "loss_fn = nn.L1Loss()\n",
    "\n",
    "# Setup an optimizer\n",
    "optimizer = torch.optim.SGD(params=model_0.parameters(),\n",
    "                            lr=0.001) # learning rate"
   ]
  },
  {
   "cell_type": "markdown",
   "metadata": {},
   "source": [
    "### Building a training loop (and a testing loop) in PyTorch\n",
    "\n",
    "A couple of things we need in a training loop:\n",
    "\n",
    "0. Loop through the data\n",
    "\n",
    "1. Forward Pass (this involves data moving through our model's forward() function) to make predictions on data - also called forward propogation\n",
    "\n",
    "2. Calculate the loss (compare foward pass predictions to ground truth labels)\n",
    "\n",
    "3. Optimizer zero grad\n",
    "\n",
    "4. Loss Backward [Back Propogation] - move backwards through the network to calculate the gradients of each of the parameters of our model with respect to the loss\n",
    "\n",
    "5. Optimizer Step [Gradient Descent]- use the optimizer to adjust our model's parameters to try and improve the loss"
   ]
  },
  {
   "cell_type": "code",
   "execution_count": 18,
   "metadata": {},
   "outputs": [
    {
     "name": "stdout",
     "output_type": "stream",
     "text": [
      "Epoch: 0 | Training Loss: 0.6860889196395874 | Test Loss: 0.775876522064209\n",
      "Epoch: 10 | Training Loss: 0.6745680570602417 | Test Loss: 0.7624056935310364\n",
      "Epoch: 20 | Training Loss: 0.6630472540855408 | Test Loss: 0.7489349246025085\n",
      "Epoch: 30 | Training Loss: 0.6515263915061951 | Test Loss: 0.7354640960693359\n",
      "Epoch: 40 | Training Loss: 0.6400055885314941 | Test Loss: 0.7219933271408081\n",
      "Epoch: 50 | Training Loss: 0.6284847259521484 | Test Loss: 0.7085224986076355\n",
      "Epoch: 60 | Training Loss: 0.6169638633728027 | Test Loss: 0.6950516104698181\n",
      "Epoch: 70 | Training Loss: 0.6054430603981018 | Test Loss: 0.6815808415412903\n",
      "Epoch: 80 | Training Loss: 0.5939221978187561 | Test Loss: 0.6681100130081177\n",
      "Epoch: 90 | Training Loss: 0.5824013352394104 | Test Loss: 0.6546391844749451\n",
      "Epoch: 100 | Training Loss: 0.5708805322647095 | Test Loss: 0.641168475151062\n",
      "Epoch: 110 | Training Loss: 0.5593596696853638 | Test Loss: 0.6276975870132446\n",
      "Epoch: 120 | Training Loss: 0.5478388667106628 | Test Loss: 0.6142268776893616\n",
      "Epoch: 130 | Training Loss: 0.5363179445266724 | Test Loss: 0.600756049156189\n",
      "Epoch: 140 | Training Loss: 0.5247971415519714 | Test Loss: 0.5872851610183716\n",
      "Epoch: 150 | Training Loss: 0.5132762789726257 | Test Loss: 0.573814332485199\n",
      "Epoch: 160 | Training Loss: 0.50175541639328 | Test Loss: 0.5603434443473816\n",
      "Epoch: 170 | Training Loss: 0.4902346134185791 | Test Loss: 0.5468727350234985\n",
      "Epoch: 180 | Training Loss: 0.4787138104438782 | Test Loss: 0.5334018468856812\n",
      "Epoch: 190 | Training Loss: 0.46719294786453247 | Test Loss: 0.5199311375617981\n",
      "Epoch: 200 | Training Loss: 0.45567208528518677 | Test Loss: 0.5064603090286255\n",
      "Epoch: 210 | Training Loss: 0.44415122270584106 | Test Loss: 0.49298954010009766\n",
      "Epoch: 220 | Training Loss: 0.43263036012649536 | Test Loss: 0.4795186519622803\n",
      "Epoch: 230 | Training Loss: 0.42110952734947205 | Test Loss: 0.46604785323143005\n",
      "Epoch: 240 | Training Loss: 0.40958866477012634 | Test Loss: 0.45257705450057983\n",
      "Epoch: 250 | Training Loss: 0.398067831993103 | Test Loss: 0.439106285572052\n",
      "Epoch: 260 | Training Loss: 0.3865470290184021 | Test Loss: 0.425635427236557\n",
      "Epoch: 270 | Training Loss: 0.3750261664390564 | Test Loss: 0.4121646285057068\n",
      "Epoch: 280 | Training Loss: 0.3635053336620331 | Test Loss: 0.39869385957717896\n",
      "Epoch: 290 | Training Loss: 0.351984441280365 | Test Loss: 0.3852229714393616\n",
      "Epoch: 300 | Training Loss: 0.3404636085033417 | Test Loss: 0.37175220251083374\n",
      "Epoch: 310 | Training Loss: 0.32894277572631836 | Test Loss: 0.3582814037799835\n",
      "Epoch: 320 | Training Loss: 0.31742191314697266 | Test Loss: 0.3448105454444885\n",
      "Epoch: 330 | Training Loss: 0.30590111017227173 | Test Loss: 0.3313397765159607\n",
      "Epoch: 340 | Training Loss: 0.294380247592926 | Test Loss: 0.3178689181804657\n",
      "Epoch: 350 | Training Loss: 0.2828593850135803 | Test Loss: 0.3043981194496155\n",
      "Epoch: 360 | Training Loss: 0.271338552236557 | Test Loss: 0.29092732071876526\n",
      "Epoch: 370 | Training Loss: 0.2598177194595337 | Test Loss: 0.2774565517902374\n",
      "Epoch: 380 | Training Loss: 0.248296856880188 | Test Loss: 0.2639857232570648\n",
      "Epoch: 390 | Training Loss: 0.23677602410316467 | Test Loss: 0.2505149245262146\n",
      "Epoch: 400 | Training Loss: 0.22525517642498016 | Test Loss: 0.237044095993042\n",
      "Epoch: 410 | Training Loss: 0.21373434364795685 | Test Loss: 0.22357328236103058\n",
      "Epoch: 420 | Training Loss: 0.20221348106861115 | Test Loss: 0.21010248363018036\n",
      "Epoch: 430 | Training Loss: 0.19069264829158783 | Test Loss: 0.19663166999816895\n",
      "Epoch: 440 | Training Loss: 0.17917180061340332 | Test Loss: 0.18316085636615753\n",
      "Epoch: 450 | Training Loss: 0.16765096783638 | Test Loss: 0.1696900576353073\n",
      "Epoch: 460 | Training Loss: 0.1561301052570343 | Test Loss: 0.1562192142009735\n",
      "Epoch: 470 | Training Loss: 0.1446092575788498 | Test Loss: 0.14274843037128448\n",
      "Epoch: 480 | Training Loss: 0.13308843970298767 | Test Loss: 0.12927761673927307\n",
      "Epoch: 490 | Training Loss: 0.12156756967306137 | Test Loss: 0.11580677330493927\n",
      "Epoch: 500 | Training Loss: 0.11004672944545746 | Test Loss: 0.10233600437641144\n",
      "Epoch: 510 | Training Loss: 0.09852589666843414 | Test Loss: 0.08886518329381943\n",
      "Epoch: 520 | Training Loss: 0.08700504153966904 | Test Loss: 0.07539437711238861\n",
      "Epoch: 530 | Training Loss: 0.07548420131206512 | Test Loss: 0.0619235523045063\n",
      "Epoch: 540 | Training Loss: 0.06396336108446121 | Test Loss: 0.04845272749662399\n",
      "Epoch: 550 | Training Loss: 0.052442509680986404 | Test Loss: 0.03498192876577377\n",
      "Epoch: 560 | Training Loss: 0.040921665728092194 | Test Loss: 0.021511107683181763\n",
      "Epoch: 570 | Training Loss: 0.029400816187262535 | Test Loss: 0.008040308952331543\n",
      "Epoch: 580 | Training Loss: 0.017879974097013474 | Test Loss: 0.0054305074736475945\n",
      "Epoch: 590 | Training Loss: 0.011684718541800976 | Test Loss: 0.013987964019179344\n",
      "Epoch: 600 | Training Loss: 0.010024385526776314 | Test Loss: 0.01766524836421013\n",
      "Epoch: 610 | Training Loss: 0.009334058500826359 | Test Loss: 0.0191509909927845\n",
      "Epoch: 620 | Training Loss: 0.008893127553164959 | Test Loss: 0.019572770223021507\n",
      "Epoch: 630 | Training Loss: 0.008530955761671066 | Test Loss: 0.01922694966197014\n",
      "Epoch: 640 | Training Loss: 0.008178118616342545 | Test Loss: 0.018811482936143875\n",
      "Epoch: 650 | Training Loss: 0.007828602567315102 | Test Loss: 0.01825873926281929\n",
      "Epoch: 660 | Training Loss: 0.00748574361205101 | Test Loss: 0.017431367188692093\n",
      "Epoch: 670 | Training Loss: 0.007141849957406521 | Test Loss: 0.016604000702500343\n",
      "Epoch: 680 | Training Loss: 0.006798344198614359 | Test Loss: 0.01584530435502529\n",
      "Epoch: 690 | Training Loss: 0.006455325987190008 | Test Loss: 0.015017908997833729\n",
      "Epoch: 700 | Training Loss: 0.006111425347626209 | Test Loss: 0.014190560206770897\n",
      "Epoch: 710 | Training Loss: 0.00576809560880065 | Test Loss: 0.01343185268342495\n",
      "Epoch: 720 | Training Loss: 0.0054248906672000885 | Test Loss: 0.012604475021362305\n",
      "Epoch: 730 | Training Loss: 0.005080985836684704 | Test Loss: 0.011777120642364025\n",
      "Epoch: 740 | Training Loss: 0.004737831652164459 | Test Loss: 0.011018401011824608\n",
      "Epoch: 750 | Training Loss: 0.004394450690597296 | Test Loss: 0.01019102893769741\n",
      "Epoch: 760 | Training Loss: 0.004050546791404486 | Test Loss: 0.009363656863570213\n",
      "Epoch: 770 | Training Loss: 0.0037075714208185673 | Test Loss: 0.008604961447417736\n",
      "Epoch: 780 | Training Loss: 0.003364016767591238 | Test Loss: 0.007777601480484009\n",
      "Epoch: 790 | Training Loss: 0.0030201792251318693 | Test Loss: 0.0070188818499445915\n",
      "Epoch: 800 | Training Loss: 0.0026773184072226286 | Test Loss: 0.0061914981342852116\n",
      "Epoch: 810 | Training Loss: 0.0023335821460932493 | Test Loss: 0.005364149808883667\n",
      "Epoch: 820 | Training Loss: 0.0019899189937859774 | Test Loss: 0.004605448339134455\n",
      "Epoch: 830 | Training Loss: 0.001647049910388887 | Test Loss: 0.0037780702114105225\n",
      "Epoch: 840 | Training Loss: 0.001303145312704146 | Test Loss: 0.0029507100116461515\n",
      "Epoch: 850 | Training Loss: 0.0009596645832061768 | Test Loss: 0.0021920024883002043\n",
      "Epoch: 860 | Training Loss: 0.0006166137754917145 | Test Loss: 0.001364630414173007\n",
      "Epoch: 870 | Training Loss: 0.000272712844889611 | Test Loss: 0.0005372583982534707\n",
      "Epoch: 880 | Training Loss: 0.0003208882990293205 | Test Loss: 0.0007917463663034141\n",
      "Epoch: 890 | Training Loss: 0.0003208882990293205 | Test Loss: 0.0007917463663034141\n",
      "Epoch: 900 | Training Loss: 0.0003208882990293205 | Test Loss: 0.0007917463663034141\n",
      "Epoch: 910 | Training Loss: 0.0003208882990293205 | Test Loss: 0.0007917463663034141\n",
      "Epoch: 920 | Training Loss: 0.0003208882990293205 | Test Loss: 0.0007917463663034141\n",
      "Epoch: 930 | Training Loss: 0.0003208882990293205 | Test Loss: 0.0007917463663034141\n",
      "Epoch: 940 | Training Loss: 0.0003208882990293205 | Test Loss: 0.0007917463663034141\n",
      "Epoch: 950 | Training Loss: 0.0003208882990293205 | Test Loss: 0.0007917463663034141\n",
      "Epoch: 960 | Training Loss: 0.0003208882990293205 | Test Loss: 0.0007917463663034141\n",
      "Epoch: 970 | Training Loss: 0.0003208882990293205 | Test Loss: 0.0007917463663034141\n",
      "Epoch: 980 | Training Loss: 0.0003208882990293205 | Test Loss: 0.0007917463663034141\n",
      "Epoch: 990 | Training Loss: 0.0003208882990293205 | Test Loss: 0.0007917463663034141\n"
     ]
    }
   ],
   "source": [
    "torch.manual_seed(42)\n",
    "\n",
    "# An epoch is one loop through the data...(hyperparameter: we've set them)\n",
    "epochs = 1000\n",
    "\n",
    "# Track different values\n",
    "epoch_count = []\n",
    "train_loss_values = []\n",
    "test_loss_values = []\n",
    "\n",
    "### Training\n",
    "\n",
    "# 0. Loop through the data \n",
    "for epoch in range(epochs):\n",
    "    # Set the model to training mode\n",
    "    model_0.train() # Train mode in PyTorch sets all parameters that require gradients to require_grad\n",
    "    \n",
    "    # 1. Forward Pass\n",
    "    y_pred = model_0(X_train);\n",
    "\n",
    "    # 2. Calculate the loss\n",
    "    loss = loss_fn(y_pred, y_train)\n",
    "\n",
    "    # 3. Optimizer zero grad\n",
    "    optimizer.zero_grad()\n",
    "\n",
    "    # 4. Perform Back-Propogation on the loss w.r.t the parameters of the model\n",
    "    loss.backward()\n",
    "\n",
    "    # 5. Step the optimizer (perform gradient descent)\n",
    "    optimizer.step() # by default how the opitimizer changes will accumulate through the loop so...we have to zero them above in step 3 for the next iteration of the loop\n",
    "    \n",
    "    ### Testing \n",
    "\n",
    "    # Put the model in evaluation mode\n",
    "    model_0.eval() # turns off different settings in the model not needed for evaluation (dropout/ normalization)\n",
    "\n",
    "    with torch.inference_mode():\n",
    "        # 1. Do the forward pass\n",
    "        test_pred = model_0(X_test)\n",
    "\n",
    "        # 2. Calculate the loss\n",
    "        test_loss = loss_fn(test_pred, y_test)\n",
    "\n",
    "    if(epoch%10 == 0):\n",
    "        epoch_count.append(epoch)\n",
    "        train_loss_values.append(loss.detach().numpy())\n",
    "        test_loss_values.append(test_loss.detach().numpy())\n",
    "\n",
    "        # Print out what's happening\n",
    "        print(f\"Epoch: {epoch} | Training Loss: {loss} | Test Loss: {test_loss}\")\n"
   ]
  },
  {
   "cell_type": "code",
   "execution_count": 19,
   "metadata": {},
   "outputs": [
    {
     "data": {
      "text/plain": [
       "OrderedDict([('weights', tensor([0.6995])), ('bias', tensor([0.2999]))])"
      ]
     },
     "execution_count": 19,
     "metadata": {},
     "output_type": "execute_result"
    }
   ],
   "source": [
    "model_0.state_dict()"
   ]
  },
  {
   "cell_type": "code",
   "execution_count": 20,
   "metadata": {},
   "outputs": [
    {
     "data": {
      "text/plain": [
       "(0.7, 0.3)"
      ]
     },
     "execution_count": 20,
     "metadata": {},
     "output_type": "execute_result"
    }
   ],
   "source": [
    "weight,bias"
   ]
  },
  {
   "cell_type": "code",
   "execution_count": 21,
   "metadata": {},
   "outputs": [
    {
     "data": {
      "image/png": "[encoded data removed]",
      "text/plain": [
       "<Figure size 1000x700 with 1 Axes>"
      ]
     },
     "metadata": {},
     "output_type": "display_data"
    }
   ],
   "source": [
    "with torch.inference_mode():\n",
    "    y_preds_new = model_0(X_test)\n",
    "\n",
    "plot_predictions(predictions=y_preds_new)"
   ]
  },
  {
   "cell_type": "code",
   "execution_count": 22,
   "metadata": {},
   "outputs": [
    {
     "data": {
      "image/png": "[encoded data removed]",
      "text/plain": [
       "<Figure size 640x480 with 1 Axes>"
      ]
     },
     "metadata": {},
     "output_type": "display_data"
    }
   ],
   "source": [
    "# Plot the loss curves \n",
    "plt.plot(epoch_count, train_loss_values, label = \"Training Loss\")\n",
    "plt.plot(epoch_count, test_loss_values, label = \"Testing Loss\")\n",
    "plt.title(\"Training and Testing Loss Curve\")\n",
    "plt.ylabel(\"Loss\")\n",
    "plt.xlabel(\"Epochs\")\n",
    "plt.legend();"
   ]
  },
  {
   "cell_type": "markdown",
   "metadata": {},
   "source": [
    "# Saving a model in PyTorch\n",
    "\n",
    "There are three main methods for saving and loading models in PyTorch:\n",
    "\n",
    "1. 'torch.save()' --> Allows you to save a PyTorch object in Python's pickle format \n",
    "2. 'torch.load()' --> Allows you to load a saved PyTorch object\n",
    "3. 'torch.nn.Module.load_state_dict()' --> Allows you to load a model's saved state dictionary"
   ]
  },
  {
   "cell_type": "code",
   "execution_count": 23,
   "metadata": {},
   "outputs": [
    {
     "name": "stdout",
     "output_type": "stream",
     "text": [
      "Saving model to: models\\01_PyTorch Workflow.pth\n"
     ]
    }
   ],
   "source": [
    "# Saving a PyTorch model\n",
    "\n",
    "from pathlib import Path\n",
    "\n",
    "# 1. Create a model directory\n",
    "MODEL_PATH = Path(\"models\")\n",
    "MODEL_PATH.mkdir(parents = True, exist_ok=True)\n",
    "\n",
    "# 2. Create model save path\n",
    "MODEL_NAME = \"01_PyTorch Workflow.pth\"\n",
    "MODEL_SAVE_PATH = MODEL_PATH / MODEL_NAME\n",
    "\n",
    "MODEL_SAVE_PATH\n",
    "\n",
    "# 3. Save the model state_dict\n",
    "print(f\"Saving model to: {MODEL_SAVE_PATH}\")\n",
    "torch.save(obj = model_0.state_dict(),\n",
    "           f = MODEL_SAVE_PATH)"
   ]
  },
  {
   "cell_type": "markdown",
   "metadata": {},
   "source": [
    "# Loading a PyTorch Model\n",
    "\n",
    "Since we saved our model's 'state_dict()' rather the entire model, we'll create a new instance of our model class and load the saved state_dict() into that."
   ]
  },
  {
   "cell_type": "code",
   "execution_count": 24,
   "metadata": {},
   "outputs": [
    {
     "data": {
      "text/plain": [
       "OrderedDict([('weights', tensor([0.6995])), ('bias', tensor([0.2999]))])"
      ]
     },
     "execution_count": 24,
     "metadata": {},
     "output_type": "execute_result"
    }
   ],
   "source": [
    "model_0.state_dict()"
   ]
  },
  {
   "cell_type": "code",
   "execution_count": 25,
   "metadata": {},
   "outputs": [
    {
     "data": {
      "text/plain": [
       "<All keys matched successfully>"
      ]
     },
     "execution_count": 25,
     "metadata": {},
     "output_type": "execute_result"
    }
   ],
   "source": [
    "# To load in a saved state_dict we have to instantiate a new instance of our model class\n",
    "loaded_model_0 = LinearRegressionModel()\n",
    "\n",
    "# Load the saved state_dict of model_0\n",
    "loaded_model_0.load_state_dict(torch.load(f = MODEL_SAVE_PATH))"
   ]
  },
  {
   "cell_type": "code",
   "execution_count": 26,
   "metadata": {},
   "outputs": [
    {
     "data": {
      "text/plain": [
       "OrderedDict([('weights', tensor([0.6995])), ('bias', tensor([0.2999]))])"
      ]
     },
     "execution_count": 26,
     "metadata": {},
     "output_type": "execute_result"
    }
   ],
   "source": [
    "loaded_model_0.state_dict()"
   ]
  },
  {
   "cell_type": "code",
   "execution_count": 27,
   "metadata": {},
   "outputs": [
    {
     "data": {
      "text/plain": [
       "tensor([[0.8595],\n",
       "        [0.8735],\n",
       "        [0.8875],\n",
       "        [0.9015],\n",
       "        [0.9154],\n",
       "        [0.9294],\n",
       "        [0.9434],\n",
       "        [0.9574],\n",
       "        [0.9714],\n",
       "        [0.9854]])"
      ]
     },
     "execution_count": 27,
     "metadata": {},
     "output_type": "execute_result"
    }
   ],
   "source": [
    "# Make some predictions with our loaded model\n",
    "loaded_model_0.eval()\n",
    "\n",
    "with torch.inference_mode():\n",
    "    loaded_model_y_preds = loaded_model_0(X_test)\n",
    "\n",
    "loaded_model_y_preds"
   ]
  },
  {
   "cell_type": "code",
   "execution_count": 28,
   "metadata": {},
   "outputs": [
    {
     "data": {
      "text/plain": [
       "tensor([[0.8595],\n",
       "        [0.8735],\n",
       "        [0.8875],\n",
       "        [0.9015],\n",
       "        [0.9154],\n",
       "        [0.9294],\n",
       "        [0.9434],\n",
       "        [0.9574],\n",
       "        [0.9714],\n",
       "        [0.9854]])"
      ]
     },
     "execution_count": 28,
     "metadata": {},
     "output_type": "execute_result"
    }
   ],
   "source": [
    "# Make some models preds\n",
    "model_0.eval()\n",
    "with torch.inference_mode():\n",
    "    y_preds = model_0(X_test)\n",
    "\n",
    "y_preds"
   ]
  },
  {
   "cell_type": "code",
   "execution_count": 29,
   "metadata": {},
   "outputs": [
    {
     "data": {
      "text/plain": [
       "tensor([[True],\n",
       "        [True],\n",
       "        [True],\n",
       "        [True],\n",
       "        [True],\n",
       "        [True],\n",
       "        [True],\n",
       "        [True],\n",
       "        [True],\n",
       "        [True]])"
      ]
     },
     "execution_count": 29,
     "metadata": {},
     "output_type": "execute_result"
    }
   ],
   "source": [
    "# Compare loaded model preds with originla model preds\n",
    "y_preds == loaded_model_y_preds"
   ]
  },
  {
   "cell_type": "markdown",
   "metadata": {},
   "source": [
    "# Putting it all together"
   ]
  },
  {
   "cell_type": "code",
   "execution_count": 30,
   "metadata": {},
   "outputs": [
    {
     "data": {
      "text/plain": [
       "'2.1.2+cu118'"
      ]
     },
     "execution_count": 30,
     "metadata": {},
     "output_type": "execute_result"
    }
   ],
   "source": [
    "import torch\n",
    "from torch import nn\n",
    "import matplotlib.pyplot as plt\n",
    "\n",
    "torch.__version__"
   ]
  },
  {
   "cell_type": "code",
   "execution_count": 31,
   "metadata": {},
   "outputs": [
    {
     "name": "stdout",
     "output_type": "stream",
     "text": [
      "Using device: cuda\n"
     ]
    }
   ],
   "source": [
    "# Setup device agnostic code\n",
    "\n",
    "device = \"cuda\" if torch.cuda.is_available() else \"cpu\"\n",
    "print(f\"Using device: {device}\")"
   ]
  },
  {
   "cell_type": "code",
   "execution_count": 32,
   "metadata": {},
   "outputs": [
    {
     "name": "stdout",
     "output_type": "stream",
     "text": [
      "Tue Jan 16 14:55:53 2024       \n",
      "+---------------------------------------------------------------------------------------+\n",
      "| NVIDIA-SMI 537.13                 Driver Version: 537.13       CUDA Version: 12.2     |\n",
      "|-----------------------------------------+----------------------+----------------------+\n",
      "| GPU  Name                     TCC/WDDM  | Bus-Id        Disp.A | Volatile Uncorr. ECC |\n",
      "| Fan  Temp   Perf          Pwr:Usage/Cap |         Memory-Usage | GPU-Util  Compute M. |\n",
      "|                                         |                      |               MIG M. |\n",
      "|=========================================+======================+======================|\n",
      "|   0  NVIDIA GeForce GTX 1650      WDDM  | 00000000:01:00.0 Off |                  N/A |\n",
      "| N/A   42C    P8               4W /  50W |      0MiB /  4096MiB |      0%      Default |\n",
      "|                                         |                      |                  N/A |\n",
      "+-----------------------------------------+----------------------+----------------------+\n",
      "                                                                                         \n",
      "+---------------------------------------------------------------------------------------+\n",
      "| Processes:                                                                            |\n",
      "|  GPU   GI   CI        PID   Type   Process name                            GPU Memory |\n",
      "|        ID   ID                                                             Usage      |\n",
      "|=======================================================================================|\n",
      "|  No running processes found                                                           |\n",
      "+---------------------------------------------------------------------------------------+\n"
     ]
    }
   ],
   "source": [
    "!nvidia-smi"
   ]
  },
  {
   "cell_type": "markdown",
   "metadata": {},
   "source": [
    "### 6.1 Data\n",
    "\n",
    "First, we'll hard-code some weight and bias values.\n",
    "\n",
    "Then, we'll make a range of number between 0 and 1, these will be our X values.\n",
    "\n",
    "Finally, we'll use the X values, as well as the weight and bias values to create y using the linear regression formula ( y = weight * X + bias)"
   ]
  },
  {
   "cell_type": "code",
   "execution_count": 33,
   "metadata": {},
   "outputs": [
    {
     "data": {
      "text/plain": [
       "(tensor([[0.0000],\n",
       "         [0.0200],\n",
       "         [0.0400],\n",
       "         [0.0600],\n",
       "         [0.0800],\n",
       "         [0.1000],\n",
       "         [0.1200],\n",
       "         [0.1400],\n",
       "         [0.1600],\n",
       "         [0.1800]]),\n",
       " tensor([[0.3000],\n",
       "         [0.3140],\n",
       "         [0.3280],\n",
       "         [0.3420],\n",
       "         [0.3560],\n",
       "         [0.3700],\n",
       "         [0.3840],\n",
       "         [0.3980],\n",
       "         [0.4120],\n",
       "         [0.4260]]))"
      ]
     },
     "execution_count": 33,
     "metadata": {},
     "output_type": "execute_result"
    }
   ],
   "source": [
    "# Create weight and bias\n",
    "weight = 0.7\n",
    "bias = 0.3\n",
    "\n",
    "# Create range values\n",
    "start = 0\n",
    "end = 1\n",
    "step = 0.02\n",
    "\n",
    "# Create X and y (Features and Labels)\n",
    "X = torch.arange(start, end, step).unsqueeze(dim = 1)\n",
    "y = weight * X + bias\n",
    "X[:10], y[:10]"
   ]
  },
  {
   "cell_type": "code",
   "execution_count": 34,
   "metadata": {},
   "outputs": [
    {
     "data": {
      "text/plain": [
       "(40, 40, 10, 10)"
      ]
     },
     "execution_count": 34,
     "metadata": {},
     "output_type": "execute_result"
    }
   ],
   "source": [
    "# Split data \n",
    "\n",
    "train_split = int(0.8 * len(X))\n",
    "\n",
    "X_train, y_train = X[:train_split], y[:train_split]\n",
    "X_test, y_test = X[train_split:], y[train_split:]\n",
    "\n",
    "len(X_train), len(y_train), len(X_test), len(y_test)"
   ]
  },
  {
   "cell_type": "code",
   "execution_count": 35,
   "metadata": {},
   "outputs": [
    {
     "data": {
      "image/png": "[encoded data removed]",
      "text/plain": [
       "<Figure size 1000x700 with 1 Axes>"
      ]
     },
     "metadata": {},
     "output_type": "display_data"
    }
   ],
   "source": [
    "plot_predictions()"
   ]
  },
  {
   "cell_type": "markdown",
   "metadata": {},
   "source": [
    "### 6.2 Building a PyTorch linear model\n",
    "\n",
    "We'll create the same style of model as before except this time, instead of defining the weight and bias parameters of our model manually using nn.Parameter(), we'll use nn.Linear(in_features, out_features) to do it for us.\n",
    "\n",
    "Where in_features is the number of dimensions your input data has and out_features is the number of dimensions you'd like it to be output to.\n",
    "\n",
    "In our case, both of these are 1 since our data has 1 input feature (X) per label (y)."
   ]
  },
  {
   "cell_type": "code",
   "execution_count": 41,
   "metadata": {},
   "outputs": [
    {
     "data": {
      "text/plain": [
       "OrderedDict([('linear_layer.weight', tensor([[0.7645]])),\n",
       "             ('linear_layer.bias', tensor([0.8300]))])"
      ]
     },
     "execution_count": 41,
     "metadata": {},
     "output_type": "execute_result"
    }
   ],
   "source": [
    "# Subclass nn.Module to make our model\n",
    "\n",
    "class LinearRegressionModelV2(nn.Module):\n",
    "    def __init__(self):\n",
    "        super().__init__()\n",
    "\n",
    "        # Use nn.Linear() for creating the model parameters / also called: linear transform, probing layer, etc. \n",
    "        self.linear_layer = nn.Linear(in_features=1, \n",
    "                                      out_features=1)\n",
    "\n",
    "    def forward(self, x:torch.Tensor) -> torch.Tensor:\n",
    "        return self.linear_layer(x)\n",
    "    \n",
    "# Set the manual seed\n",
    "torch.manual_seed(42)\n",
    "model_1 = LinearRegressionModelV2()\n",
    "model_1.state_dict()"
   ]
  },
  {
   "cell_type": "code",
   "execution_count": 43,
   "metadata": {},
   "outputs": [
    {
     "data": {
      "text/plain": [
       "device(type='cpu')"
      ]
     },
     "execution_count": 43,
     "metadata": {},
     "output_type": "execute_result"
    }
   ],
   "source": [
    "# Check the model current device\n",
    "next(model_1.parameters()).device"
   ]
  },
  {
   "cell_type": "code",
   "execution_count": 44,
   "metadata": {},
   "outputs": [
    {
     "data": {
      "text/plain": [
       "device(type='cuda', index=0)"
      ]
     },
     "execution_count": 44,
     "metadata": {},
     "output_type": "execute_result"
    }
   ],
   "source": [
    "# Set the model to use the target device\n",
    "model_1.to(device)\n",
    "next(model_1.parameters()).device"
   ]
  },
  {
   "cell_type": "markdown",
   "metadata": {},
   "source": [
    "### 6.3 Training\n",
    "\n",
    "For training we need:\n",
    "* Loss function\n",
    "* Optimizer\n",
    "* Training Loop\n",
    "* Testing Loop"
   ]
  },
  {
   "cell_type": "code",
   "execution_count": 47,
   "metadata": {},
   "outputs": [],
   "source": [
    "# Setup loss function\n",
    "loss_fn  = nn.L1Loss()\n",
    "\n",
    "# Setup our optimizer\n",
    "optimizer = torch.optim.SGD(params=model_1.parameters(), lr = 0.01)"
   ]
  },
  {
   "cell_type": "code",
   "execution_count": 49,
   "metadata": {},
   "outputs": [
    {
     "name": "stdout",
     "output_type": "stream",
     "text": [
      "Epochs: 0 | Loss: 0.5551779270172119 | Test Loss: 0.5739762187004089\n",
      "Epochs: 10 | Loss: 0.439968079328537 | Test Loss: 0.4392664134502411\n",
      "Epochs: 20 | Loss: 0.3247582018375397 | Test Loss: 0.30455657839775085\n",
      "Epochs: 30 | Loss: 0.20954833924770355 | Test Loss: 0.16984669864177704\n",
      "Epochs: 40 | Loss: 0.09433845430612564 | Test Loss: 0.03513690456748009\n",
      "Epochs: 50 | Loss: 0.023886388167738914 | Test Loss: 0.04784907028079033\n",
      "Epochs: 60 | Loss: 0.0199567973613739 | Test Loss: 0.045803118497133255\n",
      "Epochs: 70 | Loss: 0.016517987474799156 | Test Loss: 0.037530567497015\n",
      "Epochs: 80 | Loss: 0.01308917161077261 | Test Loss: 0.02994490973651409\n",
      "Epochs: 90 | Loss: 0.009653178043663502 | Test Loss: 0.02167237363755703\n",
      "Epochs: 100 | Loss: 0.0062156799249351025 | Test Loss: 0.014086711220443249\n",
      "Epochs: 110 | Loss: 0.002787243574857712 | Test Loss: 0.005814164876937866\n",
      "Epochs: 120 | Loss: 0.0012645035749301314 | Test Loss: 0.013801801018416882\n",
      "Epochs: 130 | Loss: 0.0012645035749301314 | Test Loss: 0.013801801018416882\n",
      "Epochs: 140 | Loss: 0.0012645035749301314 | Test Loss: 0.013801801018416882\n",
      "Epochs: 150 | Loss: 0.0012645035749301314 | Test Loss: 0.013801801018416882\n",
      "Epochs: 160 | Loss: 0.0012645035749301314 | Test Loss: 0.013801801018416882\n",
      "Epochs: 170 | Loss: 0.0012645035749301314 | Test Loss: 0.013801801018416882\n",
      "Epochs: 180 | Loss: 0.0012645035749301314 | Test Loss: 0.013801801018416882\n",
      "Epochs: 190 | Loss: 0.0012645035749301314 | Test Loss: 0.013801801018416882\n"
     ]
    }
   ],
   "source": [
    "# Let's write a training loop \n",
    "torch.manual_seed(42)\n",
    "\n",
    "epochs = 200\n",
    "\n",
    "\n",
    "# Put data on the target device \n",
    "X_train = X_train.to(device)\n",
    "y_train = y_train.to(device)\n",
    "X_test = X_test.to(device)\n",
    "y_test = y_test.to(device)\n",
    "\n",
    "\n",
    "for epoch in range(epochs):\n",
    "    model_1.train()\n",
    "\n",
    "    # 1. Forward Pass\n",
    "    y_pred = model_1(X_train)\n",
    "\n",
    "    # 2. Calculate the loss\n",
    "    loss = loss_fn(y_pred, y_train)\n",
    "\n",
    "    # 3. Optimizer zero grad\n",
    "    optimizer.zero_grad()\n",
    "\n",
    "    # 4. Perform Backpropogation\n",
    "    loss.backward()\n",
    "\n",
    "    # 5. Optimizer step\n",
    "    optimizer.step()\n",
    "\n",
    "    ### Testing\n",
    "    model_1.eval()\n",
    "    \n",
    "    with torch.inference_mode():\n",
    "        test_pred = model_1(X_test)\n",
    "        test_loss = loss_fn(test_pred, y_test)\n",
    "\n",
    "    # Print out what's happening\n",
    "    if((epoch%10) == 0):\n",
    "        print(f\"Epochs: {epoch} | Loss: {loss} | Test Loss: {test_loss}\")\n"
   ]
  },
  {
   "cell_type": "code",
   "execution_count": 50,
   "metadata": {},
   "outputs": [
    {
     "data": {
      "text/plain": [
       "OrderedDict([('linear_layer.weight', tensor([[0.6968]], device='cuda:0')),\n",
       "             ('linear_layer.bias', tensor([0.3025], device='cuda:0'))])"
      ]
     },
     "execution_count": 50,
     "metadata": {},
     "output_type": "execute_result"
    }
   ],
   "source": [
    "model_1.state_dict()"
   ]
  },
  {
   "cell_type": "code",
   "execution_count": 51,
   "metadata": {},
   "outputs": [
    {
     "data": {
      "text/plain": [
       "(0.7, 0.3)"
      ]
     },
     "execution_count": 51,
     "metadata": {},
     "output_type": "execute_result"
    }
   ],
   "source": [
    "weight, bias"
   ]
  },
  {
   "cell_type": "markdown",
   "metadata": {},
   "source": [
    "### 6.4 Making and evaluating predictions"
   ]
  },
  {
   "cell_type": "code",
   "execution_count": 53,
   "metadata": {},
   "outputs": [
    {
     "data": {
      "text/plain": [
       "tensor([[0.8600],\n",
       "        [0.8739],\n",
       "        [0.8878],\n",
       "        [0.9018],\n",
       "        [0.9157],\n",
       "        [0.9296],\n",
       "        [0.9436],\n",
       "        [0.9575],\n",
       "        [0.9714],\n",
       "        [0.9854]], device='cuda:0')"
      ]
     },
     "execution_count": 53,
     "metadata": {},
     "output_type": "execute_result"
    }
   ],
   "source": [
    "# Turn the model into evaluation mode\n",
    "model_1.eval()\n",
    "\n",
    "# Make predictions on the test data\n",
    "with torch.inference_mode():\n",
    "    y_preds = model_1(X_test)\n",
    "y_preds"
   ]
  },
  {
   "cell_type": "code",
   "execution_count": 55,
   "metadata": {},
   "outputs": [
    {
     "data": {
      "image/png": "[encoded data removed]",
      "text/plain": [
       "<Figure size 1000x700 with 1 Axes>"
      ]
     },
     "metadata": {},
     "output_type": "display_data"
    }
   ],
   "source": [
    "# Check out our model predictions visually \n",
    "\n",
    "plot_predictions(predictions=y_preds.cpu())"
   ]
  },
  {
   "cell_type": "markdown",
   "metadata": {},
   "source": [
    "### 6.5 Saving and loading a trained model"
   ]
  },
  {
   "cell_type": "code",
   "execution_count": 59,
   "metadata": {},
   "outputs": [
    {
     "name": "stdout",
     "output_type": "stream",
     "text": [
      "Saving model to: models\\01_pytorch_workflow_model_1.pth\n"
     ]
    }
   ],
   "source": [
    "from pathlib import Path\n",
    "\n",
    "# 1. Create models directory\n",
    "MODEL_PATH = Path(\"models\")\n",
    "MODEL_PATH.mkdir(parents=True, exist_ok=True)\n",
    "\n",
    "# 2. Create model save path\n",
    "MODEL_NAME = \"01_pytorch_workflow_model_1.pth\"\n",
    "MODEL_SAVE_PATH = MODEL_PATH / MODEL_NAME\n",
    "\n",
    "# 3. Save the model state dict \n",
    "print(f\"Saving model to: {MODEL_SAVE_PATH}\")\n",
    "torch.save(obj=model_1.state_dict(),\n",
    "           f = MODEL_SAVE_PATH)"
   ]
  },
  {
   "cell_type": "code",
   "execution_count": 60,
   "metadata": {},
   "outputs": [
    {
     "data": {
      "text/plain": [
       "LinearRegressionModelV2(\n",
       "  (linear_layer): Linear(in_features=1, out_features=1, bias=True)\n",
       ")"
      ]
     },
     "execution_count": 60,
     "metadata": {},
     "output_type": "execute_result"
    }
   ],
   "source": [
    "# Load a PyTorch\n",
    "\n",
    "# Create a new instance of linear regression model V2\n",
    "loaded_model_1 = LinearRegressionModelV2()\n",
    "\n",
    "# Load the saved model_1 state_dict()\n",
    "loaded_model_1.load_state_dict(torch.load(MODEL_SAVE_PATH))\n",
    "\n",
    "# Put the loaded model to device\n",
    "loaded_model_1.to(device)"
   ]
  },
  {
   "cell_type": "code",
   "execution_count": 61,
   "metadata": {},
   "outputs": [
    {
     "data": {
      "text/plain": [
       "OrderedDict([('linear_layer.weight', tensor([[0.6968]], device='cuda:0')),\n",
       "             ('linear_layer.bias', tensor([0.3025], device='cuda:0'))])"
      ]
     },
     "execution_count": 61,
     "metadata": {},
     "output_type": "execute_result"
    }
   ],
   "source": [
    "loaded_model_1.state_dict()"
   ]
  },
  {
   "cell_type": "code",
   "execution_count": 63,
   "metadata": {},
   "outputs": [
    {
     "data": {
      "text/plain": [
       "tensor([[True],\n",
       "        [True],\n",
       "        [True],\n",
       "        [True],\n",
       "        [True],\n",
       "        [True],\n",
       "        [True],\n",
       "        [True],\n",
       "        [True],\n",
       "        [True]], device='cuda:0')"
      ]
     },
     "execution_count": 63,
     "metadata": {},
     "output_type": "execute_result"
    }
   ],
   "source": [
    "# Evaluated loaded model\n",
    "\n",
    "loaded_model_1.eval()\n",
    "with torch.inference_mode():\n",
    "    loaded_model_1_preds = loaded_model_1(X_test)\n",
    "\n",
    "loaded_model_1_preds == y_preds"
   ]
  },
  {
   "cell_type": "code",
   "execution_count": null,
   "metadata": {},
   "outputs": [],
   "source": []
  }
 ],
 "metadata": {
  "kernelspec": {
   "display_name": "Python 3",
   "language": "python",
   "name": "python3"
  },
  "language_info": {
   "codemirror_mode": {
    "name": "ipython",
    "version": 3
   },
   "file_extension": ".py",
   "mimetype": "text/x-python",
   "name": "python",
   "nbconvert_exporter": "python",
   "pygments_lexer": "ipython3",
   "version": "3.10.9"
  }
 },
 "nbformat": 4,
 "nbformat_minor": 2
}
